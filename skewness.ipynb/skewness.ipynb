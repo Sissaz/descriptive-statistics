{
 "cells": [
  {
   "cell_type": "code",
   "execution_count": 1,
   "source": [
    "# Medidas de Assimetria"
   ],
   "outputs": [],
   "metadata": {}
  },
  {
   "cell_type": "code",
   "execution_count": 3,
   "source": [
    "# Empregado na construção de um histograma;\r\n",
    "# É utilizado para saber a forma da distribuição dos dados;\r\n",
    "# Coeficiente de Assimetria de Pearson (As)."
   ],
   "outputs": [],
   "metadata": {}
  },
  {
   "cell_type": "code",
   "execution_count": 11,
   "source": [
    "# Classificação das Distribuições de Frequências\r\n",
    "# Simétrica (As = 0)\r\n",
    "# Assimétrica Negativa (As < 0)\r\n",
    "# Assimétrica Positiva (As > 0)"
   ],
   "outputs": [],
   "metadata": {}
  }
 ],
 "metadata": {
  "orig_nbformat": 4,
  "language_info": {
   "name": "python",
   "version": "3.9.7",
   "mimetype": "text/x-python",
   "codemirror_mode": {
    "name": "ipython",
    "version": 3
   },
   "pygments_lexer": "ipython3",
   "nbconvert_exporter": "python",
   "file_extension": ".py"
  },
  "kernelspec": {
   "name": "python3",
   "display_name": "Python 3.9.7 64-bit ('sicilia.giacomazza': virtualenv)"
  },
  "interpreter": {
   "hash": "87423e84b6290a50d7e3421f2c9d3f1007ed4c3b90a1d3c5ac5a2c1dfcb7cca0"
  }
 },
 "nbformat": 4,
 "nbformat_minor": 2
}