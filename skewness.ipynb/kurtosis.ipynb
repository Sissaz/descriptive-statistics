{
    "cells": [
        {
            "cell_type": "code",
            "execution_count": 2,
            "source": [
                "# Medidas de Curtose"
            ],
            "outputs": [],
            "metadata": {}
        },
        {
            "cell_type": "code",
            "execution_count": 3,
            "source": [
                "# Quantifica a concentração ou dispersão dos valores de um conjunto de dados em relação às medidas de tendência central;\r\n",
                "# Mede o grau de achatamento de uma distribuição;\r\n",
                "# Complementa as informações de dispersão."
            ],
            "outputs": [],
            "metadata": {}
        },
        {
            "cell_type": "code",
            "execution_count": 4,
            "source": [
                "# Classificação do Grau de Achatamento\r\n",
                "# Leptocúrtica: Dados MUITO concentrados em torno do centro (K < 0.263)\r\n",
                "# Mesocúrtica: Dados LEVEMENTE concentrados em torno do centro (K = 0.263)\r\n",
                "# Platicúrtica: Dados POUCO concentrados em torno do centro (K > 0.263)"
            ],
            "outputs": [],
            "metadata": {}
        }
    ],
    "metadata": {
        "orig_nbformat": 4,
        "language_info": {
            "name": "python",
            "version": "3.9.7",
            "mimetype": "text/x-python",
            "codemirror_mode": {
                "name": "ipython",
                "version": 3
            },
            "pygments_lexer": "ipython3",
            "nbconvert_exporter": "python",
            "file_extension": ".py"
        },
        "kernelspec": {
            "name": "python3",
            "display_name": "Python 3.9.7 64-bit ('sicilia.giacomazza': virtualenv)"
        },
        "interpreter": {
            "hash": "87423e84b6290a50d7e3421f2c9d3f1007ed4c3b90a1d3c5ac5a2c1dfcb7cca0"
        }
    },
    "nbformat": 4,
    "nbformat_minor": 2
}