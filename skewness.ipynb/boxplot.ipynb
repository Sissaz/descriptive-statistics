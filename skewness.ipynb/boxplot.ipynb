{
    "cells": [
        {
            "cell_type": "code",
            "execution_count": 30,
            "source": [
                "# Boxplot"
            ],
            "outputs": [],
            "metadata": {}
        },
        {
            "cell_type": "code",
            "execution_count": 31,
            "source": [
                "# É um gráfico que utiliza cinco medidas estatísticas:\r\n",
                "# Valor mínimo;\r\n",
                "# Valor máximo;\r\n",
                "# Mediana (Q2);\r\n",
                "# Primeiro Quartil (Q1);\r\n",
                "# Terceiro Quartil (Q3);"
            ],
            "outputs": [],
            "metadata": {}
        },
        {
            "cell_type": "code",
            "execution_count": 32,
            "source": [
                "# O Boxplot oferece a ideia de:\r\n",
                "# Posição, Disperção, Assimetria, Caudas e Dados Discrepantes (OUTLIERS)."
            ],
            "outputs": [],
            "metadata": {}
        },
        {
            "cell_type": "code",
            "execution_count": 33,
            "source": [
                "import matplotlib.pyplot as plt\r\n",
                "import matplotlib.colors as mcolors\r\n",
                "from bokeh.sampledata.iris import flowers as dados\r\n",
                "import seaborn as sns"
            ],
            "outputs": [],
            "metadata": {}
        },
        {
            "cell_type": "code",
            "execution_count": 34,
            "source": [
                "dados.head(3)"
            ],
            "outputs": [
                {
                    "output_type": "execute_result",
                    "data": {
                        "text/plain": [
                            "   sepal_length  sepal_width  petal_length  petal_width species\n",
                            "0           5.1          3.5           1.4          0.2  setosa\n",
                            "1           4.9          3.0           1.4          0.2  setosa\n",
                            "2           4.7          3.2           1.3          0.2  setosa"
                        ],
                        "text/html": [
                            "<div>\n",
                            "<style scoped>\n",
                            "    .dataframe tbody tr th:only-of-type {\n",
                            "        vertical-align: middle;\n",
                            "    }\n",
                            "\n",
                            "    .dataframe tbody tr th {\n",
                            "        vertical-align: top;\n",
                            "    }\n",
                            "\n",
                            "    .dataframe thead th {\n",
                            "        text-align: right;\n",
                            "    }\n",
                            "</style>\n",
                            "<table border=\"1\" class=\"dataframe\">\n",
                            "  <thead>\n",
                            "    <tr style=\"text-align: right;\">\n",
                            "      <th></th>\n",
                            "      <th>sepal_length</th>\n",
                            "      <th>sepal_width</th>\n",
                            "      <th>petal_length</th>\n",
                            "      <th>petal_width</th>\n",
                            "      <th>species</th>\n",
                            "    </tr>\n",
                            "  </thead>\n",
                            "  <tbody>\n",
                            "    <tr>\n",
                            "      <th>0</th>\n",
                            "      <td>5.1</td>\n",
                            "      <td>3.5</td>\n",
                            "      <td>1.4</td>\n",
                            "      <td>0.2</td>\n",
                            "      <td>setosa</td>\n",
                            "    </tr>\n",
                            "    <tr>\n",
                            "      <th>1</th>\n",
                            "      <td>4.9</td>\n",
                            "      <td>3.0</td>\n",
                            "      <td>1.4</td>\n",
                            "      <td>0.2</td>\n",
                            "      <td>setosa</td>\n",
                            "    </tr>\n",
                            "    <tr>\n",
                            "      <th>2</th>\n",
                            "      <td>4.7</td>\n",
                            "      <td>3.2</td>\n",
                            "      <td>1.3</td>\n",
                            "      <td>0.2</td>\n",
                            "      <td>setosa</td>\n",
                            "    </tr>\n",
                            "  </tbody>\n",
                            "</table>\n",
                            "</div>"
                        ]
                    },
                    "metadata": {},
                    "execution_count": 34
                }
            ],
            "metadata": {}
        },
        {
            "cell_type": "code",
            "execution_count": 35,
            "source": [
                "sns.set(style = 'whitegrid', color_codes=True)\r\n",
                "sns.boxplot(data = dados)"
            ],
            "outputs": [
                {
                    "output_type": "execute_result",
                    "data": {
                        "text/plain": [
                            "<AxesSubplot:>"
                        ]
                    },
                    "metadata": {},
                    "execution_count": 35
                },
                {
                    "output_type": "display_data",
                    "data": {
                        "text/plain": [
                            "<Figure size 432x288 with 1 Axes>"
                        ],
                        "image/png": "[encoded data removed]"
                    },
                    "metadata": {}
                }
            ],
            "metadata": {}
        },
        {
            "cell_type": "code",
            "execution_count": 36,
            "source": [
                "# petal_length: Dados mais dispersos; Dados mais assimétricos;\r\n",
                "# sepal_width: Vários Outliers; Dispersão pequena; Simetria boa;\r\n",
                "# sepal_length: Dados mais simétricos;\r\n",
                "# petal_width: Dados simétricos."
            ],
            "outputs": [],
            "metadata": {}
        },
        {
            "cell_type": "code",
            "execution_count": 37,
            "source": [
                "plt.boxplot(dados['sepal_length'])\r\n",
                "plt.show()"
            ],
            "outputs": [
                {
                    "output_type": "display_data",
                    "data": {
                        "text/plain": [
                            "<Figure size 432x288 with 1 Axes>"
                        ],
                        "image/png": "[encoded data removed]"
                    },
                    "metadata": {}
                }
            ],
            "metadata": {}
        }
    ],
    "metadata": {
        "orig_nbformat": 4,
        "language_info": {
            "name": "python",
            "version": "3.9.7",
            "mimetype": "text/x-python",
            "codemirror_mode": {
                "name": "ipython",
                "version": 3
            },
            "pygments_lexer": "ipython3",
            "nbconvert_exporter": "python",
            "file_extension": ".py"
        },
        "kernelspec": {
            "name": "python3",
            "display_name": "Python 3.9.7 64-bit ('sicilia.giacomazza': virtualenv)"
        },
        "interpreter": {
            "hash": "87423e84b6290a50d7e3421f2c9d3f1007ed4c3b90a1d3c5ac5a2c1dfcb7cca0"
        }
    },
    "nbformat": 4,
    "nbformat_minor": 2
}