# Type Jupyter:
type(2)

# shift + enter retorna:
# int

print(type(2.0))
print(type('python'))
print(type(False))
print(type(None))

# float
# str
# bool
# NoneType


# Validações:
isinstance(2.0, float)
# True

isinstance(2.0, int)
# False

isinstance(4.0, (int, float, bool))
# True


# Convertendo os Tipos:
float(2)
# 2.0

int(7.9)
# 7

str(7.5)
# '7.5'
