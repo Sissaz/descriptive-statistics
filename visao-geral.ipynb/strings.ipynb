# String

s = str (77)
s
# 77

t = 'O Python...'
len(t)
# 11

t[:8]
# O Python

t.upper()
# O PYTHON...

t.lower()
# o python...

t.find("Python")
# 2

g = t.split("o")
g
# O Pyth, n...

s = t.split(" ")
s
# O, Python...

type(g)
# list
