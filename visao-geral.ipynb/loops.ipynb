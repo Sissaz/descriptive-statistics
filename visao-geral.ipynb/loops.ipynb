# Loops:

v = range(20)
vv = range(5,10)
vv[4]

# 9

-

lista = [2,4,6,8,10]
for i in range(1,10):
    print(i)
# 1
# 2
# 3
# 4
# 5
# 6
# 7
# 8
# 9

-

lista[1:10]
# [4, 6, 8, 10]

-

for j in lista:
    print(j)

# 2
# 4
# 6
# 8
# 10

-

g = [1, 5.6, "Python"]
for k in g:
    print(k)

# 1
# 5.6
# Python

-

g[0:3]

# [1, 5.6, 'Python']

-

k = 0

while k < 10:
    print(k)
    k += 1

# 0
# 1
# 2
# 3
# 4
# 5
# 6
# 7
# 8
# 9
