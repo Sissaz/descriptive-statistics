# Dict

lista = []
tupa = ()
dicionario = {}

type(dicionario)
# dict

dic1 = {'A':1, 'B':2, 'C':3, 'D':4}
dic1
# {'A': 1, 'B': 2, 'C':3, 'D': 4}

dic2 = dict(A=1,B=2,C=77)
dic2
# # {'A': 1, 'B': 2, 'C':77}

len(dic2)
# 3

dic2.keys()
# dict_keys (['A', 'B', 'C'])

dic2.values()
#dict_values([1, 2, 77])
