# Condicionais:

import random
random_number = random.randint(0,10)
if random_number > 0:
    print('Maior que 0')
elif random_number == 0:
    print('Igual a zero')
elif random_number < 0:
    print('Menor que zero')
else:
    print('Indefinido')
print(f'O numero gerado foi: {random_number}')
