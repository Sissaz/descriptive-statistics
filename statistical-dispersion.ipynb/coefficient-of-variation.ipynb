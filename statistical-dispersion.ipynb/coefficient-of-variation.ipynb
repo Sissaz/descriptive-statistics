{
 "cells": [
  {
   "cell_type": "code",
   "execution_count": 1,
   "source": [
    "# Coeficiente de Variação"
   ],
   "outputs": [],
   "metadata": {}
  },
  {
   "cell_type": "code",
   "execution_count": 2,
   "source": [
    "# Indica a variabilidade da medida em relação a média;\r\n",
    "# Vantagem: permite comparar a dispersão de diferentes distribuições com diferentes Médias e Desvios Padrões."
   ],
   "outputs": [],
   "metadata": {}
  },
  {
   "cell_type": "code",
   "execution_count": 4,
   "source": [
    "# Exemplo:\r\n",
    "# Qual das distribuições tem maior dispersão dos dados(heterogeneidade da população)?"
   ],
   "outputs": [],
   "metadata": {}
  },
  {
   "cell_type": "code",
   "execution_count": 5,
   "source": [
    "Salinidade = 32 +- 6,4\r\n",
    "PH = 8,2 +- 1,64 "
   ],
   "outputs": [],
   "metadata": {}
  },
  {
   "cell_type": "code",
   "execution_count": 31,
   "source": [
    "CVs = 6.4/32*100\r\n",
    "CVph = 1.64/8.2*100\r\n",
    "if CVs == CVph:\r\n",
    "    print(f'O CV é o mesmo, logo temos a mesma dispersão de {CVs}%.')"
   ],
   "outputs": [
    {
     "output_type": "stream",
     "name": "stdout",
     "text": [
      "O CV é o mesmo, logo temos a mesma dispersão de 20.0%.\n"
     ]
    }
   ],
   "metadata": {}
  },
  {
   "cell_type": "code",
   "execution_count": 39,
   "source": [
    "import matplotlib.pyplot as plt\r\n",
    "import warnings as w\r\n",
    "w.filterwarnings('ignore')\r\n",
    "import numpy as np\r\n",
    "import pandas as pd\r\n",
    "from bokeh.sampledata.iris import flowers as dados"
   ],
   "outputs": [],
   "metadata": {}
  },
  {
   "cell_type": "code",
   "execution_count": 35,
   "source": [
    "# Calculo do Coeficiente de Variação\r\n",
    "CV = np.std(dados)/np.mean(dados)*100\r\n",
    "CV"
   ],
   "outputs": [
    {
     "output_type": "execute_result",
     "data": {
      "text/plain": [
       "sepal_length    14.123810\n",
       "sepal_width     14.208819\n",
       "petal_length    46.817564\n",
       "petal_width     63.342909\n",
       "dtype: float64"
      ]
     },
     "metadata": {},
     "execution_count": 35
    }
   ],
   "metadata": {}
  },
  {
   "cell_type": "code",
   "execution_count": 40,
   "source": [
    "CV_DataFrame = dados.std()/dados.mean()*100\r\n",
    "CV_DataFrame"
   ],
   "outputs": [
    {
     "output_type": "execute_result",
     "data": {
      "text/plain": [
       "sepal_length    14.171126\n",
       "sepal_width     14.256420\n",
       "petal_length    46.974407\n",
       "petal_width     63.555114\n",
       "dtype: float64"
      ]
     },
     "metadata": {},
     "execution_count": 40
    }
   ],
   "metadata": {}
  }
 ],
 "metadata": {
  "orig_nbformat": 4,
  "language_info": {
   "name": "python",
   "version": "3.9.7",
   "mimetype": "text/x-python",
   "codemirror_mode": {
    "name": "ipython",
    "version": 3
   },
   "pygments_lexer": "ipython3",
   "nbconvert_exporter": "python",
   "file_extension": ".py"
  },
  "kernelspec": {
   "name": "python3",
   "display_name": "Python 3.9.7 64-bit ('sicilia.giacomazza': virtualenv)"
  },
  "interpreter": {
   "hash": "87423e84b6290a50d7e3421f2c9d3f1007ed4c3b90a1d3c5ac5a2c1dfcb7cca0"
  }
 },
 "nbformat": 4,
 "nbformat_minor": 2
}