{
    "cells": [
        {
            "cell_type": "code",
            "execution_count": null,
            "source": [
                "# Amplitude Total"
            ],
            "outputs": [],
            "metadata": {}
        },
        {
            "cell_type": "code",
            "execution_count": null,
            "source": [
                "# É a diferença entre o maior e o menor valor observado;"
            ],
            "outputs": [],
            "metadata": {}
        },
        {
            "cell_type": "code",
            "execution_count": null,
            "source": [
                "# Porém... \r\n",
                "# Não leva em consideração valores intermediários;\r\n",
                "# Não temos informações de como os dados estão distribuídos."
            ],
            "outputs": [],
            "metadata": {}
        },
        {
            "cell_type": "code",
            "execution_count": null,
            "source": [],
            "outputs": [],
            "metadata": {}
        }
    ],
    "metadata": {
        "orig_nbformat": 4,
        "language_info": {
            "name": "python"
        }
    },
    "nbformat": 4,
    "nbformat_minor": 2
}