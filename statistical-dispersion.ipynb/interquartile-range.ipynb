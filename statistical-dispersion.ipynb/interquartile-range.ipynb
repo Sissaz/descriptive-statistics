{
    "cells": [
        {
            "cell_type": "code",
            "execution_count": 35,
            "source": [
                "# Amplitude Interquartílica"
            ],
            "outputs": [],
            "metadata": {}
        },
        {
            "cell_type": "code",
            "execution_count": 36,
            "source": [
                "# Diferença entre o primeiro e o terceiro quartil;\r\n",
                "# Medida mais estável do que a Amplitude Total;\r\n",
                "# Abrange 50% dos dados;\r\n",
                "# É útil para detectar valores discrepantes."
            ],
            "outputs": [],
            "metadata": {}
        },
        {
            "cell_type": "code",
            "execution_count": 37,
            "source": [
                "# IQR = Q3 - Q1"
            ],
            "outputs": [],
            "metadata": {}
        },
        {
            "cell_type": "code",
            "execution_count": 38,
            "source": [
                "import matplotlib.pyplot as plt\r\n",
                "import matplotlib.colors as mcolors\r\n",
                "import numpy as np\r\n",
                "import pandas as pd\r\n",
                "from bokeh.sampledata.iris import flowers as dados"
            ],
            "outputs": [],
            "metadata": {}
        },
        {
            "cell_type": "code",
            "execution_count": 39,
            "source": [
                "# Terceiro Quartil\r\n",
                "np.quantile(dados['sepal_length'], 0.75)"
            ],
            "outputs": [
                {
                    "output_type": "execute_result",
                    "data": {
                        "text/plain": [
                            "6.4"
                        ]
                    },
                    "metadata": {},
                    "execution_count": 39
                }
            ],
            "metadata": {}
        },
        {
            "cell_type": "code",
            "execution_count": 40,
            "source": [
                "# Terceiro Quartil (DataFrame)\r\n",
                "Q3 = dados['sepal_length'].quantile(0.75)\r\n",
                "Q3"
            ],
            "outputs": [
                {
                    "output_type": "execute_result",
                    "data": {
                        "text/plain": [
                            "6.4"
                        ]
                    },
                    "metadata": {},
                    "execution_count": 40
                }
            ],
            "metadata": {}
        },
        {
            "cell_type": "code",
            "execution_count": 41,
            "source": [
                "# Primeiro Quartil (DataFrame)\r\n",
                "Q1 = dados['sepal_length'].quantile(0.25)\r\n",
                "Q1"
            ],
            "outputs": [
                {
                    "output_type": "execute_result",
                    "data": {
                        "text/plain": [
                            "5.1"
                        ]
                    },
                    "metadata": {},
                    "execution_count": 41
                }
            ],
            "metadata": {}
        },
        {
            "cell_type": "code",
            "execution_count": 42,
            "source": [
                "# Calculo da Amplitude Interquartílica\r\n",
                "IQR = Q3 - Q1\r\n",
                "IQR"
            ],
            "outputs": [
                {
                    "output_type": "execute_result",
                    "data": {
                        "text/plain": [
                            "1.3000000000000007"
                        ]
                    },
                    "metadata": {},
                    "execution_count": 42
                }
            ],
            "metadata": {}
        },
        {
            "cell_type": "code",
            "execution_count": 43,
            "source": [
                "dados.quantile(0.25)"
            ],
            "outputs": [
                {
                    "output_type": "execute_result",
                    "data": {
                        "text/plain": [
                            "sepal_length    5.1\n",
                            "sepal_width     2.8\n",
                            "petal_length    1.6\n",
                            "petal_width     0.3\n",
                            "Name: 0.25, dtype: float64"
                        ]
                    },
                    "metadata": {},
                    "execution_count": 43
                }
            ],
            "metadata": {}
        },
        {
            "cell_type": "code",
            "execution_count": 44,
            "source": [
                "IQR2 = dados.quantile(0.75) - dados.quantile(0.25)\r\n",
                "IQR2"
            ],
            "outputs": [
                {
                    "output_type": "execute_result",
                    "data": {
                        "text/plain": [
                            "sepal_length    1.3\n",
                            "sepal_width     0.5\n",
                            "petal_length    3.5\n",
                            "petal_width     1.5\n",
                            "dtype: float64"
                        ]
                    },
                    "metadata": {},
                    "execution_count": 44
                }
            ],
            "metadata": {}
        }
    ],
    "metadata": {
        "orig_nbformat": 4,
        "language_info": {
            "name": "python",
            "version": "3.9.7",
            "mimetype": "text/x-python",
            "codemirror_mode": {
                "name": "ipython",
                "version": 3
            },
            "pygments_lexer": "ipython3",
            "nbconvert_exporter": "python",
            "file_extension": ".py"
        },
        "kernelspec": {
            "name": "python3",
            "display_name": "Python 3.9.7 64-bit ('sicilia.giacomazza': virtualenv)"
        },
        "interpreter": {
            "hash": "87423e84b6290a50d7e3421f2c9d3f1007ed4c3b90a1d3c5ac5a2c1dfcb7cca0"
        }
    },
    "nbformat": 4,
    "nbformat_minor": 2
}