{
    "cells": [
        {
            "cell_type": "code",
            "execution_count": 37,
            "source": [
                "# Desvio Médio"
            ],
            "outputs": [],
            "metadata": {}
        },
        {
            "cell_type": "code",
            "execution_count": 38,
            "source": [
                "# É a diferença entre cada valor observado e a média.\r\n",
                "# A soma dos desvio é igual a zero. \r\n",
                "# Devemos desconsiderar os sinais utilizando o módulo e a média dessas diferenças é o Desvio Médio."
            ],
            "outputs": [],
            "metadata": {}
        },
        {
            "cell_type": "code",
            "execution_count": 39,
            "source": [
                "import matplotlib.pyplot as plt\r\n",
                "import matplotlib.colors as mcolors\r\n",
                "import numpy as np\r\n",
                "import pandas as pd\r\n",
                "from bokeh.sampledata.iris import flowers as dados"
            ],
            "outputs": [],
            "metadata": {}
        },
        {
            "cell_type": "code",
            "execution_count": 40,
            "source": [
                "# Calculo do Desvio Médio Absoluto\r\n",
                "dados.mad()"
            ],
            "outputs": [
                {
                    "output_type": "execute_result",
                    "data": {
                        "text/plain": [
                            "sepal_length    0.687556\n",
                            "sepal_width     0.336782\n",
                            "petal_length    1.562747\n",
                            "petal_width     0.658133\n",
                            "dtype: float64"
                        ]
                    },
                    "metadata": {},
                    "execution_count": 40
                }
            ],
            "metadata": {}
        },
        {
            "cell_type": "code",
            "execution_count": 41,
            "source": [
                "# Algumas propriedades matemáticas para o desvio médio possuem desvantagens;\r\n",
                "# Por isso utilizamos a Variância."
            ],
            "outputs": [],
            "metadata": {}
        },
        {
            "cell_type": "code",
            "execution_count": 42,
            "source": [
                "# Variância e Desvio Padrão"
            ],
            "outputs": [],
            "metadata": {}
        },
        {
            "cell_type": "code",
            "execution_count": 43,
            "source": [
                "import matplotlib.pyplot as plt\r\n",
                "import warnings as w\r\n",
                "w.filterwarnings('ignore')\r\n",
                "import numpy as np\r\n",
                "import pandas as pd\r\n",
                "from bokeh.sampledata.iris import flowers as dados"
            ],
            "outputs": [],
            "metadata": {}
        },
        {
            "cell_type": "code",
            "execution_count": 44,
            "source": [
                "dados.var()"
            ],
            "outputs": [
                {
                    "output_type": "execute_result",
                    "data": {
                        "text/plain": [
                            "sepal_length    0.685694\n",
                            "sepal_width     0.189979\n",
                            "petal_length    3.116278\n",
                            "petal_width     0.581006\n",
                            "dtype: float64"
                        ]
                    },
                    "metadata": {},
                    "execution_count": 44
                }
            ],
            "metadata": {}
        },
        {
            "cell_type": "code",
            "execution_count": 45,
            "source": [
                "np.var(dados)"
            ],
            "outputs": [
                {
                    "output_type": "execute_result",
                    "data": {
                        "text/plain": [
                            "sepal_length    0.681122\n",
                            "sepal_width     0.188713\n",
                            "petal_length    3.095503\n",
                            "petal_width     0.577133\n",
                            "dtype: float64"
                        ]
                    },
                    "metadata": {},
                    "execution_count": 45
                }
            ],
            "metadata": {}
        },
        {
            "cell_type": "code",
            "execution_count": 46,
            "source": [
                "# O Desvio Padrão retorna a dimensão original dos dados;\r\n",
                "# Sempre é um numero positivo."
            ],
            "outputs": [],
            "metadata": {}
        },
        {
            "cell_type": "code",
            "execution_count": 47,
            "source": [
                "dados.std()"
            ],
            "outputs": [
                {
                    "output_type": "execute_result",
                    "data": {
                        "text/plain": [
                            "sepal_length    0.828066\n",
                            "sepal_width     0.435866\n",
                            "petal_length    1.765298\n",
                            "petal_width     0.762238\n",
                            "dtype: float64"
                        ]
                    },
                    "metadata": {},
                    "execution_count": 47
                }
            ],
            "metadata": {}
        },
        {
            "cell_type": "code",
            "execution_count": 48,
            "source": [
                "np.std(dados)"
            ],
            "outputs": [
                {
                    "output_type": "execute_result",
                    "data": {
                        "text/plain": [
                            "sepal_length    0.825301\n",
                            "sepal_width     0.434411\n",
                            "petal_length    1.759404\n",
                            "petal_width     0.759693\n",
                            "dtype: float64"
                        ]
                    },
                    "metadata": {},
                    "execution_count": 48
                }
            ],
            "metadata": {}
        }
    ],
    "metadata": {
        "orig_nbformat": 4,
        "language_info": {
            "name": "python",
            "version": "3.9.7",
            "mimetype": "text/x-python",
            "codemirror_mode": {
                "name": "ipython",
                "version": 3
            },
            "pygments_lexer": "ipython3",
            "nbconvert_exporter": "python",
            "file_extension": ".py"
        },
        "kernelspec": {
            "name": "python3",
            "display_name": "Python 3.9.7 64-bit ('sicilia.giacomazza': virtualenv)"
        },
        "interpreter": {
            "hash": "87423e84b6290a50d7e3421f2c9d3f1007ed4c3b90a1d3c5ac5a2c1dfcb7cca0"
        }
    },
    "nbformat": 4,
    "nbformat_minor": 2
}