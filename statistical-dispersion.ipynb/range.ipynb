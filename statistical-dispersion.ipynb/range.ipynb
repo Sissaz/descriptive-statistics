{
    "cells": [
        {
            "cell_type": "code",
            "execution_count": 47,
            "source": [
                "# Amplitude Total"
            ],
            "outputs": [],
            "metadata": {}
        },
        {
            "cell_type": "code",
            "execution_count": 48,
            "source": [
                "# É a diferença entre o maior e o menor valor observado;"
            ],
            "outputs": [],
            "metadata": {}
        },
        {
            "cell_type": "code",
            "execution_count": 49,
            "source": [
                "# Porém... \r\n",
                "# Não leva em consideração valores intermediários;\r\n",
                "# Não temos informações de como os dados estão distribuídos."
            ],
            "outputs": [],
            "metadata": {}
        },
        {
            "cell_type": "code",
            "execution_count": 50,
            "source": [
                "import matplotlib.pyplot as plt\r\n",
                "import matplotlib.colors as mcolors\r\n",
                "import numpy as np\r\n",
                "import pandas as pd\r\n",
                "from bokeh.sampledata.iris import flowers as dados"
            ],
            "outputs": [],
            "metadata": {}
        },
        {
            "cell_type": "code",
            "execution_count": 51,
            "source": [
                "# Verificando como os dados estão dispostos:\r\n",
                "dados.head(3)"
            ],
            "outputs": [
                {
                    "output_type": "execute_result",
                    "data": {
                        "text/plain": [
                            "   sepal_length  sepal_width  petal_length  petal_width species\n",
                            "0           5.1          3.5           1.4          0.2  setosa\n",
                            "1           4.9          3.0           1.4          0.2  setosa\n",
                            "2           4.7          3.2           1.3          0.2  setosa"
                        ],
                        "text/html": [
                            "<div>\n",
                            "<style scoped>\n",
                            "    .dataframe tbody tr th:only-of-type {\n",
                            "        vertical-align: middle;\n",
                            "    }\n",
                            "\n",
                            "    .dataframe tbody tr th {\n",
                            "        vertical-align: top;\n",
                            "    }\n",
                            "\n",
                            "    .dataframe thead th {\n",
                            "        text-align: right;\n",
                            "    }\n",
                            "</style>\n",
                            "<table border=\"1\" class=\"dataframe\">\n",
                            "  <thead>\n",
                            "    <tr style=\"text-align: right;\">\n",
                            "      <th></th>\n",
                            "      <th>sepal_length</th>\n",
                            "      <th>sepal_width</th>\n",
                            "      <th>petal_length</th>\n",
                            "      <th>petal_width</th>\n",
                            "      <th>species</th>\n",
                            "    </tr>\n",
                            "  </thead>\n",
                            "  <tbody>\n",
                            "    <tr>\n",
                            "      <th>0</th>\n",
                            "      <td>5.1</td>\n",
                            "      <td>3.5</td>\n",
                            "      <td>1.4</td>\n",
                            "      <td>0.2</td>\n",
                            "      <td>setosa</td>\n",
                            "    </tr>\n",
                            "    <tr>\n",
                            "      <th>1</th>\n",
                            "      <td>4.9</td>\n",
                            "      <td>3.0</td>\n",
                            "      <td>1.4</td>\n",
                            "      <td>0.2</td>\n",
                            "      <td>setosa</td>\n",
                            "    </tr>\n",
                            "    <tr>\n",
                            "      <th>2</th>\n",
                            "      <td>4.7</td>\n",
                            "      <td>3.2</td>\n",
                            "      <td>1.3</td>\n",
                            "      <td>0.2</td>\n",
                            "      <td>setosa</td>\n",
                            "    </tr>\n",
                            "  </tbody>\n",
                            "</table>\n",
                            "</div>"
                        ]
                    },
                    "metadata": {},
                    "execution_count": 51
                }
            ],
            "metadata": {}
        },
        {
            "cell_type": "code",
            "execution_count": 52,
            "source": [
                "# Verificando o tamanho da tabela:\r\n",
                "dados.shape"
            ],
            "outputs": [
                {
                    "output_type": "execute_result",
                    "data": {
                        "text/plain": [
                            "(150, 5)"
                        ]
                    },
                    "metadata": {},
                    "execution_count": 52
                }
            ],
            "metadata": {}
        },
        {
            "cell_type": "code",
            "execution_count": 53,
            "source": [
                "# Calculo da Amplitude Total"
            ],
            "outputs": [],
            "metadata": {}
        },
        {
            "cell_type": "code",
            "execution_count": 54,
            "source": [
                "# DataFrame é uma estrutura que permite que façamos calculos rápidos (Máximo, Minimo, Média, Desvio Padrão...).\r\n",
                "type(dados)"
            ],
            "outputs": [
                {
                    "output_type": "execute_result",
                    "data": {
                        "text/plain": [
                            "pandas.core.frame.DataFrame"
                        ]
                    },
                    "metadata": {},
                    "execution_count": 54
                }
            ],
            "metadata": {}
        },
        {
            "cell_type": "code",
            "execution_count": 55,
            "source": [
                "dados.describe()"
            ],
            "outputs": [
                {
                    "output_type": "execute_result",
                    "data": {
                        "text/plain": [
                            "       sepal_length  sepal_width  petal_length  petal_width\n",
                            "count    150.000000   150.000000    150.000000   150.000000\n",
                            "mean       5.843333     3.057333      3.758000     1.199333\n",
                            "std        0.828066     0.435866      1.765298     0.762238\n",
                            "min        4.300000     2.000000      1.000000     0.100000\n",
                            "25%        5.100000     2.800000      1.600000     0.300000\n",
                            "50%        5.800000     3.000000      4.350000     1.300000\n",
                            "75%        6.400000     3.300000      5.100000     1.800000\n",
                            "max        7.900000     4.400000      6.900000     2.500000"
                        ],
                        "text/html": [
                            "<div>\n",
                            "<style scoped>\n",
                            "    .dataframe tbody tr th:only-of-type {\n",
                            "        vertical-align: middle;\n",
                            "    }\n",
                            "\n",
                            "    .dataframe tbody tr th {\n",
                            "        vertical-align: top;\n",
                            "    }\n",
                            "\n",
                            "    .dataframe thead th {\n",
                            "        text-align: right;\n",
                            "    }\n",
                            "</style>\n",
                            "<table border=\"1\" class=\"dataframe\">\n",
                            "  <thead>\n",
                            "    <tr style=\"text-align: right;\">\n",
                            "      <th></th>\n",
                            "      <th>sepal_length</th>\n",
                            "      <th>sepal_width</th>\n",
                            "      <th>petal_length</th>\n",
                            "      <th>petal_width</th>\n",
                            "    </tr>\n",
                            "  </thead>\n",
                            "  <tbody>\n",
                            "    <tr>\n",
                            "      <th>count</th>\n",
                            "      <td>150.000000</td>\n",
                            "      <td>150.000000</td>\n",
                            "      <td>150.000000</td>\n",
                            "      <td>150.000000</td>\n",
                            "    </tr>\n",
                            "    <tr>\n",
                            "      <th>mean</th>\n",
                            "      <td>5.843333</td>\n",
                            "      <td>3.057333</td>\n",
                            "      <td>3.758000</td>\n",
                            "      <td>1.199333</td>\n",
                            "    </tr>\n",
                            "    <tr>\n",
                            "      <th>std</th>\n",
                            "      <td>0.828066</td>\n",
                            "      <td>0.435866</td>\n",
                            "      <td>1.765298</td>\n",
                            "      <td>0.762238</td>\n",
                            "    </tr>\n",
                            "    <tr>\n",
                            "      <th>min</th>\n",
                            "      <td>4.300000</td>\n",
                            "      <td>2.000000</td>\n",
                            "      <td>1.000000</td>\n",
                            "      <td>0.100000</td>\n",
                            "    </tr>\n",
                            "    <tr>\n",
                            "      <th>25%</th>\n",
                            "      <td>5.100000</td>\n",
                            "      <td>2.800000</td>\n",
                            "      <td>1.600000</td>\n",
                            "      <td>0.300000</td>\n",
                            "    </tr>\n",
                            "    <tr>\n",
                            "      <th>50%</th>\n",
                            "      <td>5.800000</td>\n",
                            "      <td>3.000000</td>\n",
                            "      <td>4.350000</td>\n",
                            "      <td>1.300000</td>\n",
                            "    </tr>\n",
                            "    <tr>\n",
                            "      <th>75%</th>\n",
                            "      <td>6.400000</td>\n",
                            "      <td>3.300000</td>\n",
                            "      <td>5.100000</td>\n",
                            "      <td>1.800000</td>\n",
                            "    </tr>\n",
                            "    <tr>\n",
                            "      <th>max</th>\n",
                            "      <td>7.900000</td>\n",
                            "      <td>4.400000</td>\n",
                            "      <td>6.900000</td>\n",
                            "      <td>2.500000</td>\n",
                            "    </tr>\n",
                            "  </tbody>\n",
                            "</table>\n",
                            "</div>"
                        ]
                    },
                    "metadata": {},
                    "execution_count": 55
                }
            ],
            "metadata": {}
        },
        {
            "cell_type": "code",
            "execution_count": 56,
            "source": [
                "dados.min()"
            ],
            "outputs": [
                {
                    "output_type": "execute_result",
                    "data": {
                        "text/plain": [
                            "sepal_length       4.3\n",
                            "sepal_width        2.0\n",
                            "petal_length       1.0\n",
                            "petal_width        0.1\n",
                            "species         setosa\n",
                            "dtype: object"
                        ]
                    },
                    "metadata": {},
                    "execution_count": 56
                }
            ],
            "metadata": {}
        },
        {
            "cell_type": "code",
            "execution_count": 57,
            "source": [
                "dados.max()"
            ],
            "outputs": [
                {
                    "output_type": "execute_result",
                    "data": {
                        "text/plain": [
                            "sepal_length          7.9\n",
                            "sepal_width           4.4\n",
                            "petal_length          6.9\n",
                            "petal_width           2.5\n",
                            "species         virginica\n",
                            "dtype: object"
                        ]
                    },
                    "metadata": {},
                    "execution_count": 57
                }
            ],
            "metadata": {}
        },
        {
            "cell_type": "code",
            "execution_count": 58,
            "source": [
                "# Amplitude Total:\r\n",
                "# ':' Significa todas as linhas;\r\n",
                "# 0:4 Da coluna 0 até a coluna 3.\r\n",
                "dados.iloc[:, 0:4].max() - dados.iloc[:, 0:4].min()"
            ],
            "outputs": [
                {
                    "output_type": "execute_result",
                    "data": {
                        "text/plain": [
                            "sepal_length    3.6\n",
                            "sepal_width     2.4\n",
                            "petal_length    5.9\n",
                            "petal_width     2.4\n",
                            "dtype: float64"
                        ]
                    },
                    "metadata": {},
                    "execution_count": 58
                }
            ],
            "metadata": {}
        },
        {
            "cell_type": "code",
            "execution_count": 59,
            "source": [
                "# Outra maneira de calcular:\r\n",
                "np.max(dados.iloc[:, 0:4])"
            ],
            "outputs": [
                {
                    "output_type": "execute_result",
                    "data": {
                        "text/plain": [
                            "sepal_length    7.9\n",
                            "sepal_width     4.4\n",
                            "petal_length    6.9\n",
                            "petal_width     2.5\n",
                            "dtype: float64"
                        ]
                    },
                    "metadata": {},
                    "execution_count": 59
                }
            ],
            "metadata": {}
        },
        {
            "cell_type": "code",
            "execution_count": 60,
            "source": [
                "np.min(dados.iloc[:, 0:4])"
            ],
            "outputs": [
                {
                    "output_type": "execute_result",
                    "data": {
                        "text/plain": [
                            "sepal_length    4.3\n",
                            "sepal_width     2.0\n",
                            "petal_length    1.0\n",
                            "petal_width     0.1\n",
                            "dtype: float64"
                        ]
                    },
                    "metadata": {},
                    "execution_count": 60
                }
            ],
            "metadata": {}
        },
        {
            "cell_type": "code",
            "execution_count": 61,
            "source": [
                "np.max(dados.iloc[:, 0:4]) - np.min(dados.iloc[:, 0:4])"
            ],
            "outputs": [
                {
                    "output_type": "execute_result",
                    "data": {
                        "text/plain": [
                            "sepal_length    3.6\n",
                            "sepal_width     2.4\n",
                            "petal_length    5.9\n",
                            "petal_width     2.4\n",
                            "dtype: float64"
                        ]
                    },
                    "metadata": {},
                    "execution_count": 61
                }
            ],
            "metadata": {}
        }
    ],
    "metadata": {
        "orig_nbformat": 4,
        "language_info": {
            "name": "python",
            "version": "3.9.7",
            "mimetype": "text/x-python",
            "codemirror_mode": {
                "name": "ipython",
                "version": 3
            },
            "pygments_lexer": "ipython3",
            "nbconvert_exporter": "python",
            "file_extension": ".py"
        },
        "kernelspec": {
            "name": "python3",
            "display_name": "Python 3.9.7 64-bit ('sicilia.giacomazza': virtualenv)"
        },
        "interpreter": {
            "hash": "87423e84b6290a50d7e3421f2c9d3f1007ed4c3b90a1d3c5ac5a2c1dfcb7cca0"
        }
    },
    "nbformat": 4,
    "nbformat_minor": 2
}