{
 "cells": [
  {
   "cell_type": "code",
   "execution_count": 1,
   "source": [
    "# Analise de Ações da Petrobras"
   ],
   "outputs": [],
   "metadata": {}
  },
  {
   "cell_type": "code",
   "execution_count": 2,
   "source": [
    "import pandas as pd\r\n",
    "import matplotlib.pyplot as plt\r\n",
    "import matplotlib.colors as mcolors\r\n",
    "import seaborn as sns\r\n",
    "import warnings as w\r\n",
    "w.filterwarnings('ignore')"
   ],
   "outputs": [],
   "metadata": {}
  },
  {
   "cell_type": "code",
   "execution_count": 3,
   "source": [
    "# Trocar \\ por /\r\n",
    "# Encontrar onde está o .csv\r\n",
    "df=pd.read_csv(r'C:/Users/sicilia.giacomazza/Downloads/PETR4.csv')"
   ],
   "outputs": [],
   "metadata": {}
  },
  {
   "cell_type": "code",
   "execution_count": 4,
   "source": [
    "# Três primeiras linhas\r\n",
    "df.head(3)"
   ],
   "outputs": [
    {
     "output_type": "execute_result",
     "data": {
      "text/plain": [
       "         Date       Open       High    Low      Close  Adj Close    Volume\n",
       "0  2019-04-29  27.549999  27.620001  27.34  27.370001  27.266680  27689800\n",
       "1  2019-04-30  27.520000  27.660000  26.98  27.110001  27.007660  39570700\n",
       "2  2019-05-02  26.799999  26.820000  26.52  26.730000  26.629093  37820300"
      ],
      "text/html": [
       "<div>\n",
       "<style scoped>\n",
       "    .dataframe tbody tr th:only-of-type {\n",
       "        vertical-align: middle;\n",
       "    }\n",
       "\n",
       "    .dataframe tbody tr th {\n",
       "        vertical-align: top;\n",
       "    }\n",
       "\n",
       "    .dataframe thead th {\n",
       "        text-align: right;\n",
       "    }\n",
       "</style>\n",
       "<table border=\"1\" class=\"dataframe\">\n",
       "  <thead>\n",
       "    <tr style=\"text-align: right;\">\n",
       "      <th></th>\n",
       "      <th>Date</th>\n",
       "      <th>Open</th>\n",
       "      <th>High</th>\n",
       "      <th>Low</th>\n",
       "      <th>Close</th>\n",
       "      <th>Adj Close</th>\n",
       "      <th>Volume</th>\n",
       "    </tr>\n",
       "  </thead>\n",
       "  <tbody>\n",
       "    <tr>\n",
       "      <th>0</th>\n",
       "      <td>2019-04-29</td>\n",
       "      <td>27.549999</td>\n",
       "      <td>27.620001</td>\n",
       "      <td>27.34</td>\n",
       "      <td>27.370001</td>\n",
       "      <td>27.266680</td>\n",
       "      <td>27689800</td>\n",
       "    </tr>\n",
       "    <tr>\n",
       "      <th>1</th>\n",
       "      <td>2019-04-30</td>\n",
       "      <td>27.520000</td>\n",
       "      <td>27.660000</td>\n",
       "      <td>26.98</td>\n",
       "      <td>27.110001</td>\n",
       "      <td>27.007660</td>\n",
       "      <td>39570700</td>\n",
       "    </tr>\n",
       "    <tr>\n",
       "      <th>2</th>\n",
       "      <td>2019-05-02</td>\n",
       "      <td>26.799999</td>\n",
       "      <td>26.820000</td>\n",
       "      <td>26.52</td>\n",
       "      <td>26.730000</td>\n",
       "      <td>26.629093</td>\n",
       "      <td>37820300</td>\n",
       "    </tr>\n",
       "  </tbody>\n",
       "</table>\n",
       "</div>"
      ]
     },
     "metadata": {},
     "execution_count": 4
    }
   ],
   "metadata": {}
  },
  {
   "cell_type": "code",
   "execution_count": 5,
   "source": [
    "# Três ultimas linhas dos dados\r\n",
    "df.tail(3)"
   ],
   "outputs": [
    {
     "output_type": "execute_result",
     "data": {
      "text/plain": [
       "          Date       Open       High        Low      Close  Adj Close  \\\n",
       "17  2019-05-23  25.900000  25.920000  25.520000  25.840000  25.840000   \n",
       "18  2019-05-24  26.150000  26.360001  25.930000  26.139999  26.139999   \n",
       "19  2019-05-27  26.299999  26.420000  26.290001  26.379999  26.379999   \n",
       "\n",
       "      Volume  \n",
       "17  49527400  \n",
       "18  34020100  \n",
       "19   5958500  "
      ],
      "text/html": [
       "<div>\n",
       "<style scoped>\n",
       "    .dataframe tbody tr th:only-of-type {\n",
       "        vertical-align: middle;\n",
       "    }\n",
       "\n",
       "    .dataframe tbody tr th {\n",
       "        vertical-align: top;\n",
       "    }\n",
       "\n",
       "    .dataframe thead th {\n",
       "        text-align: right;\n",
       "    }\n",
       "</style>\n",
       "<table border=\"1\" class=\"dataframe\">\n",
       "  <thead>\n",
       "    <tr style=\"text-align: right;\">\n",
       "      <th></th>\n",
       "      <th>Date</th>\n",
       "      <th>Open</th>\n",
       "      <th>High</th>\n",
       "      <th>Low</th>\n",
       "      <th>Close</th>\n",
       "      <th>Adj Close</th>\n",
       "      <th>Volume</th>\n",
       "    </tr>\n",
       "  </thead>\n",
       "  <tbody>\n",
       "    <tr>\n",
       "      <th>17</th>\n",
       "      <td>2019-05-23</td>\n",
       "      <td>25.900000</td>\n",
       "      <td>25.920000</td>\n",
       "      <td>25.520000</td>\n",
       "      <td>25.840000</td>\n",
       "      <td>25.840000</td>\n",
       "      <td>49527400</td>\n",
       "    </tr>\n",
       "    <tr>\n",
       "      <th>18</th>\n",
       "      <td>2019-05-24</td>\n",
       "      <td>26.150000</td>\n",
       "      <td>26.360001</td>\n",
       "      <td>25.930000</td>\n",
       "      <td>26.139999</td>\n",
       "      <td>26.139999</td>\n",
       "      <td>34020100</td>\n",
       "    </tr>\n",
       "    <tr>\n",
       "      <th>19</th>\n",
       "      <td>2019-05-27</td>\n",
       "      <td>26.299999</td>\n",
       "      <td>26.420000</td>\n",
       "      <td>26.290001</td>\n",
       "      <td>26.379999</td>\n",
       "      <td>26.379999</td>\n",
       "      <td>5958500</td>\n",
       "    </tr>\n",
       "  </tbody>\n",
       "</table>\n",
       "</div>"
      ]
     },
     "metadata": {},
     "execution_count": 5
    }
   ],
   "metadata": {}
  },
  {
   "cell_type": "code",
   "execution_count": 6,
   "source": [
    "# Tipo do Dado\r\n",
    "type(df)"
   ],
   "outputs": [
    {
     "output_type": "execute_result",
     "data": {
      "text/plain": [
       "pandas.core.frame.DataFrame"
      ]
     },
     "metadata": {},
     "execution_count": 6
    }
   ],
   "metadata": {}
  },
  {
   "cell_type": "code",
   "execution_count": 7,
   "source": [
    "# Dimensão dos Dados\r\n",
    "df.shape\r\n",
    "# 20 linhas e 7 colunas"
   ],
   "outputs": [
    {
     "output_type": "execute_result",
     "data": {
      "text/plain": [
       "(20, 7)"
      ]
     },
     "metadata": {},
     "execution_count": 7
    }
   ],
   "metadata": {}
  },
  {
   "cell_type": "code",
   "execution_count": 8,
   "source": [
    "# Informações do conjunto de Dados\r\n",
    "df.info()"
   ],
   "outputs": [
    {
     "output_type": "stream",
     "name": "stdout",
     "text": [
      "<class 'pandas.core.frame.DataFrame'>\n",
      "RangeIndex: 20 entries, 0 to 19\n",
      "Data columns (total 7 columns):\n",
      " #   Column     Non-Null Count  Dtype  \n",
      "---  ------     --------------  -----  \n",
      " 0   Date       20 non-null     object \n",
      " 1   Open       20 non-null     float64\n",
      " 2   High       20 non-null     float64\n",
      " 3   Low        20 non-null     float64\n",
      " 4   Close      20 non-null     float64\n",
      " 5   Adj Close  20 non-null     float64\n",
      " 6   Volume     20 non-null     int64  \n",
      "dtypes: float64(5), int64(1), object(1)\n",
      "memory usage: 1.2+ KB\n"
     ]
    }
   ],
   "metadata": {}
  },
  {
   "cell_type": "code",
   "execution_count": 9,
   "source": [
    "# Estatística Descritiva dos Dados\r\n",
    "df.describe()"
   ],
   "outputs": [
    {
     "output_type": "execute_result",
     "data": {
      "text/plain": [
       "            Open       High        Low      Close  Adj Close        Volume\n",
       "count  20.000000  20.000000  20.000000  20.000000  20.000000  2.000000e+01\n",
       "mean   26.305000  26.567000  26.016000  26.322500  26.242885  4.267958e+07\n",
       "std     0.729329   0.636000   0.731037   0.690986   0.684796  1.468141e+07\n",
       "min    24.680000  25.420000  24.469999  24.680000  24.586834  5.958500e+06\n",
       "25%    25.867500  26.182500  25.625000  25.895000  25.830557  3.384908e+07\n",
       "50%    26.304999  26.479999  26.040000  26.365000  26.335000  4.135840e+07\n",
       "75%    26.817500  26.957500  26.445000  26.785000  26.683886  5.025915e+07\n",
       "max    27.549999  27.660000  27.340000  27.370001  27.266680  7.178030e+07"
      ],
      "text/html": [
       "<div>\n",
       "<style scoped>\n",
       "    .dataframe tbody tr th:only-of-type {\n",
       "        vertical-align: middle;\n",
       "    }\n",
       "\n",
       "    .dataframe tbody tr th {\n",
       "        vertical-align: top;\n",
       "    }\n",
       "\n",
       "    .dataframe thead th {\n",
       "        text-align: right;\n",
       "    }\n",
       "</style>\n",
       "<table border=\"1\" class=\"dataframe\">\n",
       "  <thead>\n",
       "    <tr style=\"text-align: right;\">\n",
       "      <th></th>\n",
       "      <th>Open</th>\n",
       "      <th>High</th>\n",
       "      <th>Low</th>\n",
       "      <th>Close</th>\n",
       "      <th>Adj Close</th>\n",
       "      <th>Volume</th>\n",
       "    </tr>\n",
       "  </thead>\n",
       "  <tbody>\n",
       "    <tr>\n",
       "      <th>count</th>\n",
       "      <td>20.000000</td>\n",
       "      <td>20.000000</td>\n",
       "      <td>20.000000</td>\n",
       "      <td>20.000000</td>\n",
       "      <td>20.000000</td>\n",
       "      <td>2.000000e+01</td>\n",
       "    </tr>\n",
       "    <tr>\n",
       "      <th>mean</th>\n",
       "      <td>26.305000</td>\n",
       "      <td>26.567000</td>\n",
       "      <td>26.016000</td>\n",
       "      <td>26.322500</td>\n",
       "      <td>26.242885</td>\n",
       "      <td>4.267958e+07</td>\n",
       "    </tr>\n",
       "    <tr>\n",
       "      <th>std</th>\n",
       "      <td>0.729329</td>\n",
       "      <td>0.636000</td>\n",
       "      <td>0.731037</td>\n",
       "      <td>0.690986</td>\n",
       "      <td>0.684796</td>\n",
       "      <td>1.468141e+07</td>\n",
       "    </tr>\n",
       "    <tr>\n",
       "      <th>min</th>\n",
       "      <td>24.680000</td>\n",
       "      <td>25.420000</td>\n",
       "      <td>24.469999</td>\n",
       "      <td>24.680000</td>\n",
       "      <td>24.586834</td>\n",
       "      <td>5.958500e+06</td>\n",
       "    </tr>\n",
       "    <tr>\n",
       "      <th>25%</th>\n",
       "      <td>25.867500</td>\n",
       "      <td>26.182500</td>\n",
       "      <td>25.625000</td>\n",
       "      <td>25.895000</td>\n",
       "      <td>25.830557</td>\n",
       "      <td>3.384908e+07</td>\n",
       "    </tr>\n",
       "    <tr>\n",
       "      <th>50%</th>\n",
       "      <td>26.304999</td>\n",
       "      <td>26.479999</td>\n",
       "      <td>26.040000</td>\n",
       "      <td>26.365000</td>\n",
       "      <td>26.335000</td>\n",
       "      <td>4.135840e+07</td>\n",
       "    </tr>\n",
       "    <tr>\n",
       "      <th>75%</th>\n",
       "      <td>26.817500</td>\n",
       "      <td>26.957500</td>\n",
       "      <td>26.445000</td>\n",
       "      <td>26.785000</td>\n",
       "      <td>26.683886</td>\n",
       "      <td>5.025915e+07</td>\n",
       "    </tr>\n",
       "    <tr>\n",
       "      <th>max</th>\n",
       "      <td>27.549999</td>\n",
       "      <td>27.660000</td>\n",
       "      <td>27.340000</td>\n",
       "      <td>27.370001</td>\n",
       "      <td>27.266680</td>\n",
       "      <td>7.178030e+07</td>\n",
       "    </tr>\n",
       "  </tbody>\n",
       "</table>\n",
       "</div>"
      ]
     },
     "metadata": {},
     "execution_count": 9
    }
   ],
   "metadata": {}
  },
  {
   "cell_type": "code",
   "execution_count": 10,
   "source": [
    "# Coeficiente de Variação\r\n",
    "CV = df.std()/df.mean()*100\r\n",
    "CV"
   ],
   "outputs": [
    {
     "output_type": "execute_result",
     "data": {
      "text/plain": [
       "Open          2.772588\n",
       "High          2.393947\n",
       "Low           2.809952\n",
       "Close         2.625079\n",
       "Adj Close     2.609452\n",
       "Volume       34.399153\n",
       "dtype: float64"
      ]
     },
     "metadata": {},
     "execution_count": 10
    }
   ],
   "metadata": {}
  },
  {
   "cell_type": "code",
   "execution_count": 11,
   "source": [
    "# Histogramas\r\n",
    "# Com a Variavel 'Nome' podemos alterar para qualquer um dos parametros e plotar o histograma.\r\n",
    "# Open, High, Low, Close, Adj Close, Volume.\r\n",
    "\r\n",
    "Nome = \"Open\"\r\n",
    "\r\n",
    "df[Nome].hist(color = 'indianred', edgecolor = \"firebrick\")\r\n",
    "plt.grid(color='indianred', zorder = 0.5)\r\n",
    "# Retirar as linhas: plt.grid(b=None)\r\n",
    "plt.xlabel('Preço', size = 15)\r\n",
    "plt.ylabel('Frequencia', size = 15)\r\n",
    "plt.title('Gráfico de Histograma', size = 15)\r\n",
    "# Média e Mediana\r\n",
    "plt.plot(df[Nome].median(), 0, '*r')\r\n",
    "plt.plot(df[Nome].mean(), 0, 'og')\r\n",
    "plt.show()"
   ],
   "outputs": [
    {
     "output_type": "display_data",
     "data": {
      "text/plain": [
       "<Figure size 432x288 with 1 Axes>"
      ],
      "image/png": "[encoded data removed]"
     },
     "metadata": {
      "needs_background": "light"
     }
    }
   ],
   "metadata": {}
  },
  {
   "cell_type": "code",
   "execution_count": 12,
   "source": [
    "# Boxplot"
   ],
   "outputs": [],
   "metadata": {}
  },
  {
   "cell_type": "code",
   "execution_count": 13,
   "source": [
    "# 0:6 Do indice 0 ao indice 5\r\n",
    "df.iloc[:, 0:6].boxplot()\r\n",
    "plt.show()"
   ],
   "outputs": [
    {
     "output_type": "display_data",
     "data": {
      "text/plain": [
       "<Figure size 432x288 with 1 Axes>"
      ],
      "image/png": "[encoded data removed]"
     },
     "metadata": {
      "needs_background": "light"
     }
    }
   ],
   "metadata": {}
  },
  {
   "cell_type": "code",
   "execution_count": 14,
   "source": [
    "# Boxplot Seaborn\r\n",
    "sns.boxplot(data = df.iloc[:, 0:6])\r\n",
    "sns.set(color_codes=True)\r\n",
    "plt.show()"
   ],
   "outputs": [
    {
     "output_type": "display_data",
     "data": {
      "text/plain": [
       "<Figure size 432x288 with 1 Axes>"
      ],
      "image/png": "[encoded data removed]"
     },
     "metadata": {
      "needs_background": "light"
     }
    }
   ],
   "metadata": {}
  },
  {
   "cell_type": "code",
   "execution_count": 15,
   "source": [
    "# Gráfico de Linhas"
   ],
   "outputs": [],
   "metadata": {}
  },
  {
   "cell_type": "code",
   "execution_count": 16,
   "source": [
    "df.iloc[:, 0:6].plot()\r\n",
    "plt.show()"
   ],
   "outputs": [
    {
     "output_type": "display_data",
     "data": {
      "text/plain": [
       "<Figure size 432x288 with 1 Axes>"
      ],
      "image/png": "[encoded data removed]"
     },
     "metadata": {}
    }
   ],
   "metadata": {}
  }
 ],
 "metadata": {
  "orig_nbformat": 4,
  "language_info": {
   "name": "python",
   "version": "3.9.7",
   "mimetype": "text/x-python",
   "codemirror_mode": {
    "name": "ipython",
    "version": 3
   },
   "pygments_lexer": "ipython3",
   "nbconvert_exporter": "python",
   "file_extension": ".py"
  },
  "kernelspec": {
   "name": "python3",
   "display_name": "Python 3.9.7 64-bit ('sicilia.giacomazza': virtualenv)"
  },
  "interpreter": {
   "hash": "87423e84b6290a50d7e3421f2c9d3f1007ed4c3b90a1d3c5ac5a2c1dfcb7cca0"
  }
 },
 "nbformat": 4,
 "nbformat_minor": 2
}