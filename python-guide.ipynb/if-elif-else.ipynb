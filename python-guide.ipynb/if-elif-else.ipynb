{
 "cells": [
  {
   "cell_type": "code",
   "execution_count": 2,
   "metadata": {},
   "outputs": [],
   "source": [
    "# Condicionais"
   ]
  },
  {
   "cell_type": "code",
   "execution_count": 3,
   "metadata": {},
   "outputs": [
    {
     "name": "stdout",
     "output_type": "stream",
     "text": [
      "Maior que 0\n",
      "O numero gerado foi: 5\n"
     ]
    }
   ],
   "source": [
    "import random\n",
    "random_number = random.randint(0,10)\n",
    "if random_number > 0:\n",
    "    print('Maior que 0')\n",
    "elif random_number == 0:\n",
    "    print('Igual a zero')\n",
    "elif random_number < 0:\n",
    "    print('Menor que zero')\n",
    "else:\n",
    "    print('Indefinido')\n",
    "print(f'O numero gerado foi: {random_number}')"
   ]
  }
 ],
 "metadata": {
  "interpreter": {
   "hash": "07efdcd4b820c98a756949507a4d29d7862823915ec7477944641bea022f4f62"
  },
  "kernelspec": {
   "display_name": "Python 3.9.7 ('base')",
   "language": "python",
   "name": "python3"
  },
  "language_info": {
   "codemirror_mode": {
    "name": "ipython",
    "version": 3
   },
   "file_extension": ".py",
   "mimetype": "text/x-python",
   "name": "python",
   "nbconvert_exporter": "python",
   "pygments_lexer": "ipython3",
   "version": "3.9.7"
  },
  "orig_nbformat": 4
 },
 "nbformat": 4,
 "nbformat_minor": 2
}
