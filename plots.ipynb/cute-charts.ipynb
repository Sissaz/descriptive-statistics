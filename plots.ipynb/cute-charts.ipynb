{
 "cells": [
  {
   "cell_type": "code",
   "execution_count": null,
   "metadata": {},
   "outputs": [],
   "source": [
    "%pip install cutecharts"
   ]
  },
  {
   "cell_type": "code",
   "execution_count": 1,
   "metadata": {},
   "outputs": [],
   "source": [
    "import pandas as pd\n",
    "import cutecharts.charts as ctc"
   ]
  },
  {
   "cell_type": "code",
   "execution_count": 2,
   "metadata": {},
   "outputs": [],
   "source": [
    "data = {'Day': ['Mon', 'Tue', 'Wed', 'Thu', 'Fri', 'Sat', 'Sun'], 'This week': [12, 10, 9, 9, 10, 3, 3], 'Last week': [15, 12, 8, 9, 11, 4, 3] } \n",
    "df_coffee = pd.DataFrame(data, columns = ['Day', 'This week', 'Last week'])"
   ]
  },
  {
   "cell_type": "code",
   "execution_count": 5,
   "metadata": {},
   "outputs": [
    {
     "data": {
      "text/html": [
       "\n",
       "<script>\n",
       "    require.config({\n",
       "        paths: {\n",
       "            'chartXkcd':'https://cdn.jsdelivr.net/npm/chart.xkcd@1.1/dist/chart.xkcd.min'\n",
       "        }\n",
       "    });\n",
       "</script>\n",
       "\n",
       "<div id=\"65b78d163e9e4d0bab2699bab2967466\" class=\"chart-container\" style=\"width: 800px\">\n",
       "        <svg id=\"chart_65b78d163e9e4d0bab2699bab2967466\"></svg>\n",
       "    </div>\n",
       "    <script>\n",
       "        require(['chartXkcd'], function(chartXkcd) {\n",
       "            const svg_65b78d163e9e4d0bab2699bab2967466 = document.querySelector('#chart_65b78d163e9e4d0bab2699bab2967466')\n",
       "            const chart_65b78d163e9e4d0bab2699bab2967466 = new chartXkcd.Radar(svg_65b78d163e9e4d0bab2699bab2967466, {\"title\": \" Cup of coffee consumed per day\", \"data\": {\"datasets\": [{\"label\": \"This Week\", \"data\": [12, 10, 9, 9, 10, 3, 3]}, {\"label\": \"Last Week\", \"data\": [15, 12, 8, 9, 11, 4, 3]}], \"labels\": [\"Mon\", \"Tue\", \"Wed\", \"Thu\", \"Fri\", \"Sat\", \"Sun\"]}, \"options\": {\"showLegend\": true, \"showLabel\": true, \"tickCount\": 3, \"legendPosition\": 1}});\n",
       "        })\n",
       "    </script>\n"
      ],
      "text/plain": [
       "<cutecharts.render.engine.HTML at 0x1965bec0f40>"
      ]
     },
     "execution_count": 5,
     "metadata": {},
     "output_type": "execute_result"
    }
   ],
   "source": [
    "chart = ctc.Radar(' Cup of coffee consumed per day') \n",
    "chart.set_options( labels=list(df_coffee['Day']))\n",
    "chart.add_series('This Week', list(df_coffee['This week']))\n",
    "chart.add_series('Last Week', list(df_coffee['Last week']))\n",
    "chart.render_notebook()\n",
    "\n",
    "#Thanks to https://github.com/AngelicaOliveira22"
   ]
  },
  {
   "cell_type": "code",
   "execution_count": null,
   "metadata": {},
   "outputs": [],
   "source": []
  }
 ],
 "metadata": {
  "interpreter": {
   "hash": "07efdcd4b820c98a756949507a4d29d7862823915ec7477944641bea022f4f62"
  },
  "kernelspec": {
   "display_name": "Python 3.9.7 ('base')",
   "language": "python",
   "name": "python3"
  },
  "language_info": {
   "codemirror_mode": {
    "name": "ipython",
    "version": 3
   },
   "file_extension": ".py",
   "mimetype": "text/x-python",
   "name": "python",
   "nbconvert_exporter": "python",
   "pygments_lexer": "ipython3",
   "version": "3.9.7"
  },
  "orig_nbformat": 4
 },
 "nbformat": 4,
 "nbformat_minor": 2
}
